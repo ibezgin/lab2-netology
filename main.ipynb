{
 "cells": [
  {
   "cell_type": "code",
   "execution_count": 33,
   "metadata": {},
   "outputs": [
    {
     "name": "stdout",
     "output_type": "stream",
     "text": [
      "Молоко Пятерочка 1\n",
      "Молоко Перекресток 1\n",
      "Молоко Карусель 6\n",
      "Самая выгодная цена в магазине: Пятерочка\n"
     ]
    }
   ],
   "source": [
    "from enum import Enum\n",
    "\n",
    "shops = [\"Пятерочка\",\"Перекресток\",\"Карусель\"]\n",
    "items = [\"Молоко\", \"Масло\", \"Сыр\"]\n",
    "\n",
    "class Product():\n",
    "    def __init__(self,name, shop,price) -> None:\n",
    "        self.name = name\n",
    "        self.shop = shop\n",
    "        self.price = price\n",
    "        pass\n",
    "\n",
    "listOfProducts = [];\n",
    "\n",
    "for shop in shops:\n",
    "    for item in items:\n",
    "        price = int(input(f\"Введите цену на товар {item} в магазине {shop}\\n\"))\n",
    "        listOfProducts.append(Product(item, shop, price))\n",
    "\n",
    "\n",
    "needitem = input(f\"Введите название товара\\n\")\n",
    "\n",
    "filtered = list(filter(lambda currentItem: currentItem.name == needitem, listOfProducts))\n",
    "\n",
    "allPricess = []\n",
    "\n",
    "for filteredItem in filtered:\n",
    "   print(f\"{filteredItem.name} {filteredItem.shop} {filteredItem.price}\")\n",
    "   allPricess.append(filteredItem.price)\n",
    "\n",
    "max_value = min(allPricess)\n",
    "\n",
    "max_index = allPricess.index(max_value)\n",
    "bestShop = filtered[max_index].shop\n",
    "\n",
    "print(f\"Самая выгодная цена в магазине: {bestShop}\")\n"
   ]
  }
 ],
 "metadata": {
  "kernelspec": {
   "display_name": "Python 3",
   "language": "python",
   "name": "python3"
  },
  "language_info": {
   "codemirror_mode": {
    "name": "ipython",
    "version": 3
   },
   "file_extension": ".py",
   "mimetype": "text/x-python",
   "name": "python",
   "nbconvert_exporter": "python",
   "pygments_lexer": "ipython3",
   "version": "3.11.5"
  }
 },
 "nbformat": 4,
 "nbformat_minor": 2
}
